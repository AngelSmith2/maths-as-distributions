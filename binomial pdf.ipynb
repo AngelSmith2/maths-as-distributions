{
 "cells": [
  {
   "cell_type": "code",
   "execution_count": 1,
   "metadata": {},
   "outputs": [],
   "source": [
    "import numpy as np\n",
    "import scipy.special\n",
    "import matplotlib.pyplot as plt"
   ]
  },
  {
   "cell_type": "code",
   "execution_count": 2,
   "metadata": {},
   "outputs": [],
   "source": [
    "%matplotlib inline\n",
    "plt.style.use('ggplot')"
   ]
  },
  {
   "cell_type": "code",
   "execution_count": 4,
   "metadata": {},
   "outputs": [
    {
     "data": {
      "image/png": "[encoded data removed]",
      "text/plain": [
       "<matplotlib.figure.Figure at 0x7ff4aff03208>"
      ]
     },
     "metadata": {},
     "output_type": "display_data"
    }
   ],
   "source": [
    "def binomial(n, p):\n",
    "    # 0, 1, 2, ..., n\n",
    "    rs = np.arange(0,n+1)\n",
    "    # nCr/2**n\n",
    "    ps = scipy.special.comb(n,rs)*p**rs*(1-p)**(n-rs)\n",
    "    \n",
    "    # Cumulative probability\n",
    "    cs = np.cumsum(ps)\n",
    "    \n",
    "    # Critical region\n",
    "    s = 0.05/2\n",
    "    cl, ch = s, 1-s\n",
    "    indices = np.logical_and(cs >= cl, cs <= ch)\n",
    "    \n",
    "    f, ax = plt.subplots()\n",
    "    f.set_figwidth(12)\n",
    "    f.set_figheight(6)\n",
    "\n",
    "    ax.set_xticks(rs)\n",
    "    ax.scatter(rs, cs, c='blue',alpha=0.5)\n",
    "    ax.scatter(rs[indices], ps[indices], c='green', alpha=0.5)\n",
    "    ax.scatter(rs[~indices], ps[~indices], c='red', alpha=0.5)\n",
    "    return ax\n",
    "binomial(6, 0.5);"
   ]
  }
 ],
 "metadata": {
  "kernelspec": {
   "display_name": "Python 3",
   "language": "python",
   "name": "python3"
  },
  "language_info": {
   "codemirror_mode": {
    "name": "ipython",
    "version": 3
   },
   "file_extension": ".py",
   "mimetype": "text/x-python",
   "name": "python",
   "nbconvert_exporter": "python",
   "pygments_lexer": "ipython3",
   "version": "3.5.2"
  }
 },
 "nbformat": 4,
 "nbformat_minor": 2
}
